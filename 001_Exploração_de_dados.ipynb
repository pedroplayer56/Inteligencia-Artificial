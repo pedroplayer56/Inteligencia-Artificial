{
  "nbformat": 4,
  "nbformat_minor": 0,
  "metadata": {
    "colab": {
      "provenance": [],
      "mount_file_id": "1Yc5xntyMvGL8TgukFYuJVdych2YOux-e",
      "authorship_tag": "ABX9TyP4pTM2+HyNRSx+FYoNRvJf",
      "include_colab_link": true
    },
    "kernelspec": {
      "name": "python3",
      "display_name": "Python 3"
    },
    "language_info": {
      "name": "python"
    }
  },
  "cells": [
    {
      "cell_type": "markdown",
      "metadata": {
        "id": "view-in-github",
        "colab_type": "text"
      },
      "source": [
        "<a href=\"https://colab.research.google.com/github/pedroplayer56/Inteligencia-Artificial/blob/main/001_Explora%C3%A7%C3%A3o_de_dados.ipynb\" target=\"_parent\"><img src=\"https://colab.research.google.com/assets/colab-badge.svg\" alt=\"Open In Colab\"/></a>"
      ]
    },
    {
      "cell_type": "code",
      "execution_count": 1,
      "metadata": {
        "id": "18yyhTFM38xB"
      },
      "outputs": [],
      "source": [
        "#import packages\n",
        "import pandas as pd\n"
      ]
    },
    {
      "cell_type": "code",
      "source": [
        "#criar dataFrame\n",
        "steam = pd.read_csv('/content/drive/MyDrive/Steam.csv/steam.csv')"
      ],
      "metadata": {
        "id": "NLPUIrBs4rre"
      },
      "execution_count": 16,
      "outputs": []
    },
    {
      "cell_type": "code",
      "source": [
        "#tamanho do dataFrame\n",
        "steam.shape\n"
      ],
      "metadata": {
        "colab": {
          "base_uri": "https://localhost:8080/"
        },
        "id": "fb0VFOF-5SKX",
        "outputId": "cabc71fb-0683-402b-ea9c-076ed8261a77"
      },
      "execution_count": 4,
      "outputs": [
        {
          "output_type": "execute_result",
          "data": {
            "text/plain": [
              "(27075, 18)"
            ]
          },
          "metadata": {},
          "execution_count": 4
        }
      ]
    },
    {
      "cell_type": "code",
      "source": [
        "#informação sobre as colunas ou Séries\n",
        "steam.info()"
      ],
      "metadata": {
        "colab": {
          "base_uri": "https://localhost:8080/"
        },
        "id": "r0OGvto56gYt",
        "outputId": "90984b38-bcb6-4097-fbb9-89b29f839e3f"
      },
      "execution_count": 17,
      "outputs": [
        {
          "output_type": "stream",
          "name": "stdout",
          "text": [
            "<class 'pandas.core.frame.DataFrame'>\n",
            "RangeIndex: 27075 entries, 0 to 27074\n",
            "Data columns (total 18 columns):\n",
            " #   Column            Non-Null Count  Dtype  \n",
            "---  ------            --------------  -----  \n",
            " 0   appid             27075 non-null  int64  \n",
            " 1   name              27075 non-null  object \n",
            " 2   release_date      27075 non-null  object \n",
            " 3   english           27075 non-null  int64  \n",
            " 4   developer         27075 non-null  object \n",
            " 5   publisher         27075 non-null  object \n",
            " 6   platforms         27075 non-null  object \n",
            " 7   required_age      27075 non-null  int64  \n",
            " 8   categories        27075 non-null  object \n",
            " 9   genres            27075 non-null  object \n",
            " 10  steamspy_tags     27075 non-null  object \n",
            " 11  achievements      27075 non-null  int64  \n",
            " 12  positive_ratings  27075 non-null  int64  \n",
            " 13  negative_ratings  27075 non-null  int64  \n",
            " 14  average_playtime  27075 non-null  int64  \n",
            " 15  median_playtime   27075 non-null  int64  \n",
            " 16  owners            27075 non-null  object \n",
            " 17  price             27075 non-null  float64\n",
            "dtypes: float64(1), int64(8), object(9)\n",
            "memory usage: 3.7+ MB\n"
          ]
        }
      ]
    },
    {
      "cell_type": "code",
      "source": [
        "#ver uma unica (SÉRIE)\n",
        "steam['price']"
      ],
      "metadata": {
        "colab": {
          "base_uri": "https://localhost:8080/"
        },
        "id": "RyhJq1NN7Do8",
        "outputId": "c0195cb1-db3f-4c08-9182-86f4e93460dc"
      },
      "execution_count": 14,
      "outputs": [
        {
          "output_type": "execute_result",
          "data": {
            "text/plain": [
              "0        7.19\n",
              "1        3.99\n",
              "2        3.99\n",
              "3        3.99\n",
              "4        3.99\n",
              "         ... \n",
              "27070    2.09\n",
              "27071    1.69\n",
              "27072    3.99\n",
              "27073    5.19\n",
              "27074    5.19\n",
              "Name: price, Length: 27075, dtype: float64"
            ]
          },
          "metadata": {},
          "execution_count": 14
        }
      ]
    },
    {
      "cell_type": "code",
      "source": [
        "#listar só categorias\n",
        "steam['categories'].head(2)\n",
        "                      "
      ],
      "metadata": {
        "id": "sUkvlF0w7UPU"
      },
      "execution_count": null,
      "outputs": []
    },
    {
      "cell_type": "code",
      "source": [
        "#listar só owners\n",
        "steam['owners']"
      ],
      "metadata": {
        "id": "hOkhh6n67awc"
      },
      "execution_count": null,
      "outputs": []
    },
    {
      "cell_type": "code",
      "source": [
        "#listar um subset duplo\n",
        "steam[['name' ,'genres']]"
      ],
      "metadata": {
        "id": "pKfAdV6d9bAS"
      },
      "execution_count": null,
      "outputs": []
    },
    {
      "cell_type": "code",
      "source": [
        "steam[['name' ,'genres' , 'average_playtime']]"
      ],
      "metadata": {
        "id": "boONwROg92lz"
      },
      "execution_count": null,
      "outputs": []
    },
    {
      "cell_type": "code",
      "source": [
        "#subset com Categoria, idade necessária e preço\n",
        "steam[['categories' ,'required_age' , 'price']].head(15)\n"
      ],
      "metadata": {
        "id": "7o25t5S_-Kc-"
      },
      "execution_count": null,
      "outputs": []
    },
    {
      "cell_type": "code",
      "source": [
        "categoria = steam[['categories' ,'required_age' , 'price']]"
      ],
      "metadata": {
        "id": "pFua_DpmA5VU"
      },
      "execution_count": 30,
      "outputs": []
    },
    {
      "cell_type": "code",
      "source": [
        "#Listar apenas os jogos mais baratos que 3 doláres\n",
        "categoria[(categoria['price']<3)]"
      ],
      "metadata": {
        "id": "WmbTfueqAY02"
      },
      "execution_count": null,
      "outputs": []
    },
    {
      "cell_type": "code",
      "source": [
        "categoria[(categoria['price']>10)]"
      ],
      "metadata": {
        "id": "wOtiVb7KBJnk"
      },
      "execution_count": null,
      "outputs": []
    },
    {
      "cell_type": "code",
      "source": [
        "#qual o preço mais alto\n",
        "categoria['price'].max()"
      ],
      "metadata": {
        "colab": {
          "base_uri": "https://localhost:8080/"
        },
        "id": "iycjIgVpBxZm",
        "outputId": "1684a347-b0fd-4a83-f311-4e082331ec2a"
      },
      "execution_count": 33,
      "outputs": [
        {
          "output_type": "execute_result",
          "data": {
            "text/plain": [
              "421.99"
            ]
          },
          "metadata": {},
          "execution_count": 33
        }
      ]
    },
    {
      "cell_type": "code",
      "source": [
        "#qual o preço mais barato\n",
        "categoria['price'].min()"
      ],
      "metadata": {
        "id": "ncUmsuXZB_zy"
      },
      "execution_count": null,
      "outputs": []
    },
    {
      "cell_type": "code",
      "source": [
        "categoria[(categoria['price'] > 100)]"
      ],
      "metadata": {
        "colab": {
          "base_uri": "https://localhost:8080/",
          "height": 394
        },
        "id": "60UvlkAMC6U-",
        "outputId": "d1761be9-4226-42da-dc01-697bb4f12324"
      },
      "execution_count": 36,
      "outputs": [
        {
          "output_type": "execute_result",
          "data": {
            "text/plain": [
              "                                              categories  required_age   price\n",
              "7992                                 Steam Trading Cards             0  154.99\n",
              "10034             Partial Controller Support;Steam Cloud             0  209.99\n",
              "10624                  Single-player;Steam Trading Cards             0  154.99\n",
              "10910           Single-player;Partial Controller Support             0  154.99\n",
              "13061                                   In-App Purchases             0  114.99\n",
              "13062                                   In-App Purchases             0  303.99\n",
              "13063                                   In-App Purchases             0  154.99\n",
              "14917  Single-player;Multi-player;Online Multi-Player...             0  154.99\n",
              "17126                                      Single-player             0  154.99\n",
              "21105                                      Single-player             0  421.99\n",
              "25568                   Single-player;Steam Achievements             0  154.99"
            ],
            "text/html": [
              "\n",
              "  <div id=\"df-641cb3b9-086d-4d0a-9d5d-e0ccfb255268\">\n",
              "    <div class=\"colab-df-container\">\n",
              "      <div>\n",
              "<style scoped>\n",
              "    .dataframe tbody tr th:only-of-type {\n",
              "        vertical-align: middle;\n",
              "    }\n",
              "\n",
              "    .dataframe tbody tr th {\n",
              "        vertical-align: top;\n",
              "    }\n",
              "\n",
              "    .dataframe thead th {\n",
              "        text-align: right;\n",
              "    }\n",
              "</style>\n",
              "<table border=\"1\" class=\"dataframe\">\n",
              "  <thead>\n",
              "    <tr style=\"text-align: right;\">\n",
              "      <th></th>\n",
              "      <th>categories</th>\n",
              "      <th>required_age</th>\n",
              "      <th>price</th>\n",
              "    </tr>\n",
              "  </thead>\n",
              "  <tbody>\n",
              "    <tr>\n",
              "      <th>7992</th>\n",
              "      <td>Steam Trading Cards</td>\n",
              "      <td>0</td>\n",
              "      <td>154.99</td>\n",
              "    </tr>\n",
              "    <tr>\n",
              "      <th>10034</th>\n",
              "      <td>Partial Controller Support;Steam Cloud</td>\n",
              "      <td>0</td>\n",
              "      <td>209.99</td>\n",
              "    </tr>\n",
              "    <tr>\n",
              "      <th>10624</th>\n",
              "      <td>Single-player;Steam Trading Cards</td>\n",
              "      <td>0</td>\n",
              "      <td>154.99</td>\n",
              "    </tr>\n",
              "    <tr>\n",
              "      <th>10910</th>\n",
              "      <td>Single-player;Partial Controller Support</td>\n",
              "      <td>0</td>\n",
              "      <td>154.99</td>\n",
              "    </tr>\n",
              "    <tr>\n",
              "      <th>13061</th>\n",
              "      <td>In-App Purchases</td>\n",
              "      <td>0</td>\n",
              "      <td>114.99</td>\n",
              "    </tr>\n",
              "    <tr>\n",
              "      <th>13062</th>\n",
              "      <td>In-App Purchases</td>\n",
              "      <td>0</td>\n",
              "      <td>303.99</td>\n",
              "    </tr>\n",
              "    <tr>\n",
              "      <th>13063</th>\n",
              "      <td>In-App Purchases</td>\n",
              "      <td>0</td>\n",
              "      <td>154.99</td>\n",
              "    </tr>\n",
              "    <tr>\n",
              "      <th>14917</th>\n",
              "      <td>Single-player;Multi-player;Online Multi-Player...</td>\n",
              "      <td>0</td>\n",
              "      <td>154.99</td>\n",
              "    </tr>\n",
              "    <tr>\n",
              "      <th>17126</th>\n",
              "      <td>Single-player</td>\n",
              "      <td>0</td>\n",
              "      <td>154.99</td>\n",
              "    </tr>\n",
              "    <tr>\n",
              "      <th>21105</th>\n",
              "      <td>Single-player</td>\n",
              "      <td>0</td>\n",
              "      <td>421.99</td>\n",
              "    </tr>\n",
              "    <tr>\n",
              "      <th>25568</th>\n",
              "      <td>Single-player;Steam Achievements</td>\n",
              "      <td>0</td>\n",
              "      <td>154.99</td>\n",
              "    </tr>\n",
              "  </tbody>\n",
              "</table>\n",
              "</div>\n",
              "      <button class=\"colab-df-convert\" onclick=\"convertToInteractive('df-641cb3b9-086d-4d0a-9d5d-e0ccfb255268')\"\n",
              "              title=\"Convert this dataframe to an interactive table.\"\n",
              "              style=\"display:none;\">\n",
              "        \n",
              "  <svg xmlns=\"http://www.w3.org/2000/svg\" height=\"24px\"viewBox=\"0 0 24 24\"\n",
              "       width=\"24px\">\n",
              "    <path d=\"M0 0h24v24H0V0z\" fill=\"none\"/>\n",
              "    <path d=\"M18.56 5.44l.94 2.06.94-2.06 2.06-.94-2.06-.94-.94-2.06-.94 2.06-2.06.94zm-11 1L8.5 8.5l.94-2.06 2.06-.94-2.06-.94L8.5 2.5l-.94 2.06-2.06.94zm10 10l.94 2.06.94-2.06 2.06-.94-2.06-.94-.94-2.06-.94 2.06-2.06.94z\"/><path d=\"M17.41 7.96l-1.37-1.37c-.4-.4-.92-.59-1.43-.59-.52 0-1.04.2-1.43.59L10.3 9.45l-7.72 7.72c-.78.78-.78 2.05 0 2.83L4 21.41c.39.39.9.59 1.41.59.51 0 1.02-.2 1.41-.59l7.78-7.78 2.81-2.81c.8-.78.8-2.07 0-2.86zM5.41 20L4 18.59l7.72-7.72 1.47 1.35L5.41 20z\"/>\n",
              "  </svg>\n",
              "      </button>\n",
              "      \n",
              "  <style>\n",
              "    .colab-df-container {\n",
              "      display:flex;\n",
              "      flex-wrap:wrap;\n",
              "      gap: 12px;\n",
              "    }\n",
              "\n",
              "    .colab-df-convert {\n",
              "      background-color: #E8F0FE;\n",
              "      border: none;\n",
              "      border-radius: 50%;\n",
              "      cursor: pointer;\n",
              "      display: none;\n",
              "      fill: #1967D2;\n",
              "      height: 32px;\n",
              "      padding: 0 0 0 0;\n",
              "      width: 32px;\n",
              "    }\n",
              "\n",
              "    .colab-df-convert:hover {\n",
              "      background-color: #E2EBFA;\n",
              "      box-shadow: 0px 1px 2px rgba(60, 64, 67, 0.3), 0px 1px 3px 1px rgba(60, 64, 67, 0.15);\n",
              "      fill: #174EA6;\n",
              "    }\n",
              "\n",
              "    [theme=dark] .colab-df-convert {\n",
              "      background-color: #3B4455;\n",
              "      fill: #D2E3FC;\n",
              "    }\n",
              "\n",
              "    [theme=dark] .colab-df-convert:hover {\n",
              "      background-color: #434B5C;\n",
              "      box-shadow: 0px 1px 3px 1px rgba(0, 0, 0, 0.15);\n",
              "      filter: drop-shadow(0px 1px 2px rgba(0, 0, 0, 0.3));\n",
              "      fill: #FFFFFF;\n",
              "    }\n",
              "  </style>\n",
              "\n",
              "      <script>\n",
              "        const buttonEl =\n",
              "          document.querySelector('#df-641cb3b9-086d-4d0a-9d5d-e0ccfb255268 button.colab-df-convert');\n",
              "        buttonEl.style.display =\n",
              "          google.colab.kernel.accessAllowed ? 'block' : 'none';\n",
              "\n",
              "        async function convertToInteractive(key) {\n",
              "          const element = document.querySelector('#df-641cb3b9-086d-4d0a-9d5d-e0ccfb255268');\n",
              "          const dataTable =\n",
              "            await google.colab.kernel.invokeFunction('convertToInteractive',\n",
              "                                                     [key], {});\n",
              "          if (!dataTable) return;\n",
              "\n",
              "          const docLinkHtml = 'Like what you see? Visit the ' +\n",
              "            '<a target=\"_blank\" href=https://colab.research.google.com/notebooks/data_table.ipynb>data table notebook</a>'\n",
              "            + ' to learn more about interactive tables.';\n",
              "          element.innerHTML = '';\n",
              "          dataTable['output_type'] = 'display_data';\n",
              "          await google.colab.output.renderOutput(dataTable, element);\n",
              "          const docLink = document.createElement('div');\n",
              "          docLink.innerHTML = docLinkHtml;\n",
              "          element.appendChild(docLink);\n",
              "        }\n",
              "      </script>\n",
              "    </div>\n",
              "  </div>\n",
              "  "
            ]
          },
          "metadata": {},
          "execution_count": 36
        }
      ]
    }
  ]
}